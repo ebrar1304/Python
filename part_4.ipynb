{
  "nbformat": 4,
  "nbformat_minor": 0,
  "metadata": {
    "colab": {
      "provenance": [],
      "authorship_tag": "ABX9TyOXvW3bhNViIxPrXh0ZGAJA",
      "include_colab_link": true
    },
    "kernelspec": {
      "name": "python3",
      "display_name": "Python 3"
    },
    "language_info": {
      "name": "python"
    }
  },
  "cells": [
    {
      "cell_type": "markdown",
      "metadata": {
        "id": "view-in-github",
        "colab_type": "text"
      },
      "source": [
        "<a href=\"https://colab.research.google.com/github/ebrar1304/Python/blob/main/part_4.ipynb\" target=\"_parent\"><img src=\"https://colab.research.google.com/assets/colab-badge.svg\" alt=\"Open In Colab\"/></a>"
      ]
    },
    {
      "cell_type": "code",
      "execution_count": null,
      "metadata": {
        "id": "77b7S97en6gG"
      },
      "outputs": [],
      "source": [
        "# 2nd version without the break command\n",
        "\n",
        "sum = 0\n",
        "number = 0\n",
        "\n",
        "while number != -1:\n",
        "    number = int(input(\"Please type in a number, -1 to exit: \"))\n",
        "    if number != -1:\n",
        "        sum += number\n",
        "\n",
        "print (f\"The sum is {sum}\")"
      ]
    },
    {
      "cell_type": "code",
      "source": [
        "number = int(input(\"Please type in a number: \"))\n",
        "while number > 0:\n",
        "    i = 0\n",
        "    while i < number:\n",
        "        print(f\"{i} \", end=\"\")\n",
        "        i += 1\n",
        "    print()\n",
        "    number -= 1"
      ],
      "metadata": {
        "id": "H5l_09bUr6kP"
      },
      "execution_count": null,
      "outputs": []
    },
    {
      "cell_type": "code",
      "source": [
        "cümle =input(\"Please type in a sentences: \") #hoca daha göstermemişş\n",
        "kelimler=cümle.split()\n",
        "for i in kelimler:\n",
        "    print(i[0])"
      ],
      "metadata": {
        "colab": {
          "base_uri": "https://localhost:8080/"
        },
        "id": "JwqDRzpIsfQY",
        "outputId": "9695a91a-4979-442e-f354-3b977e5964a5"
      },
      "execution_count": null,
      "outputs": [
        {
          "output_type": "stream",
          "name": "stdout",
          "text": [
            "Please type in a sentences:  Humpty Dumpty sat on a wall\n",
            "H\n",
            "D\n",
            "s\n",
            "o\n",
            "a\n",
            "w\n"
          ]
        }
      ]
    },
    {
      "cell_type": "code",
      "source": [
        "cümle =input(\"Please type in a sentences: \")\n",
        "i=0\n",
        "while i < len(cümle)-1:\n",
        "    if cümle[i] == \" \":\n",
        "      print(cümle[i+1])\n",
        "    i +=1"
      ],
      "metadata": {
        "colab": {
          "base_uri": "https://localhost:8080/"
        },
        "id": "WHxDb66otZvI",
        "outputId": "d0918eea-8a23-4d8b-e759-f6f8fc921584"
      },
      "execution_count": null,
      "outputs": [
        {
          "output_type": "stream",
          "name": "stdout",
          "text": [
            "Please type in a sentences:  Humpty Dumpty sat on a wall\n",
            "H\n",
            "D\n",
            "s\n",
            "o\n",
            "a\n",
            "w\n"
          ]
        }
      ]
    },
    {
      "cell_type": "code",
      "source": [
        "number=int(input(\"Please type in a number: \"))\n",
        "i=1\n",
        "while i<=number :\n",
        "  if i == number and i % 2 == 1:\n",
        "    print(i)\n",
        "  elif i % 2 ==1:\n",
        "    print(i+1)\n",
        "    print(i)\n",
        "\n",
        "  i+= 1"
      ],
      "metadata": {
        "colab": {
          "base_uri": "https://localhost:8080/"
        },
        "id": "Z96H07UQvVEv",
        "outputId": "d4c95304-dbff-4d76-a537-c8f0a2d14ea3"
      },
      "execution_count": null,
      "outputs": [
        {
          "output_type": "stream",
          "name": "stdout",
          "text": [
            "Please type in a number: 6\n",
            "2\n",
            "1\n",
            "4\n",
            "3\n",
            "6\n",
            "5\n"
          ]
        }
      ]
    },
    {
      "cell_type": "code",
      "source": [
        "number=int(input(\"Please type in a number: \"))\n",
        "i=1\n",
        "while i<= number :\n",
        "  if i==number:\n",
        "     print(i)\n",
        "  else:\n",
        "    print(i)\n",
        "    print(number)\n",
        "  i +=1\n",
        "  number -=1\n"
      ],
      "metadata": {
        "colab": {
          "base_uri": "https://localhost:8080/"
        },
        "id": "hZweysw0zGbW",
        "outputId": "1985f327-49cf-4268-a162-89e85b86d87e"
      },
      "execution_count": null,
      "outputs": [
        {
          "output_type": "stream",
          "name": "stdout",
          "text": [
            "Please type in a number: 5\n",
            "1\n",
            "5\n",
            "2\n",
            "4\n",
            "3\n"
          ]
        }
      ]
    },
    {
      "cell_type": "code",
      "source": [
        "def message():\n",
        "    print(\"This is my very own function!\")\n",
        "\n",
        "message()"
      ],
      "metadata": {
        "colab": {
          "base_uri": "https://localhost:8080/"
        },
        "id": "cNBVxnrm12ae",
        "outputId": "fa76a019-382a-41f6-8511-b7664d430277"
      },
      "execution_count": null,
      "outputs": [
        {
          "output_type": "stream",
          "name": "stdout",
          "text": [
            "This is my very own function!\n"
          ]
        }
      ]
    },
    {
      "cell_type": "code",
      "source": [
        "def hello(target):\n",
        "    print(f\"Hello {target}\")\n",
        "hello(\"Emily\")\n",
        "hello(\"world!\")"
      ],
      "metadata": {
        "colab": {
          "base_uri": "https://localhost:8080/"
        },
        "id": "0AqS0LWt2eWM",
        "outputId": "0b506d0b-f077-4ce3-f944-59e3c08f2cc0"
      },
      "execution_count": null,
      "outputs": [
        {
          "output_type": "stream",
          "name": "stdout",
          "text": [
            "Hello Emily\n",
            "Hello world!\n"
          ]
        }
      ]
    },
    {
      "cell_type": "code",
      "source": [
        "def first_character(text):\n",
        "     print(text[0])\n",
        "\n",
        "if __name__ == \"__main__\":\n",
        "    first_character('python')\n",
        "    first_character('yellow')\n",
        "    first_character('tomorrow')\n",
        "    first_character('heliotrope')\n",
        "    first_character('open')\n",
        "    first_character('night')"
      ],
      "metadata": {
        "colab": {
          "base_uri": "https://localhost:8080/"
        },
        "id": "KybeIyfq3M36",
        "outputId": "23afcad0-f6ec-4c2c-8b3d-63881abd7526"
      },
      "execution_count": null,
      "outputs": [
        {
          "output_type": "stream",
          "name": "stdout",
          "text": [
            "p\n",
            "y\n",
            "t\n",
            "h\n",
            "o\n",
            "n\n"
          ]
        }
      ]
    },
    {
      "cell_type": "code",
      "source": [
        "def print_many_times(text, times):\n",
        "    i=1\n",
        "    while(i<=times):\n",
        "     print(text)\n",
        "     i+=1\n",
        "print_many_times('BBBF',4)"
      ],
      "metadata": {
        "colab": {
          "base_uri": "https://localhost:8080/"
        },
        "id": "vVcB5T-S4KHO",
        "outputId": "630b3dd5-aa98-41c5-9e99-996a091207c7"
      },
      "execution_count": null,
      "outputs": [
        {
          "output_type": "stream",
          "name": "stdout",
          "text": [
            "BBBF\n",
            "BBBF\n",
            "BBBF\n",
            "BBBF\n"
          ]
        }
      ]
    },
    {
      "cell_type": "code",
      "source": [
        "def hash_square(length):\n",
        "    for i in range(length):\n",
        "        print(\"#\" * length)\n",
        "\n",
        "hash_square(3)\n",
        "hash_square(5)"
      ],
      "metadata": {
        "colab": {
          "base_uri": "https://localhost:8080/"
        },
        "id": "XGzDQBZg_BDj",
        "outputId": "9b8bc3e5-d091-488e-fd0f-b0c1412e46d1"
      },
      "execution_count": 1,
      "outputs": [
        {
          "output_type": "stream",
          "name": "stdout",
          "text": [
            "###\n",
            "###\n",
            "###\n",
            "#####\n",
            "#####\n",
            "#####\n",
            "#####\n",
            "#####\n"
          ]
        }
      ]
    },
    {
      "cell_type": "code",
      "source": [
        "def triangle(length):\n",
        "    for i in range(1, length ):\n",
        "        print(\"#\" * i+1)\n",
        "triangle(6)\n",
        "print()\n",
        "triangle(3)"
      ],
      "metadata": {
        "colab": {
          "base_uri": "https://localhost:8080/"
        },
        "id": "RuXAVwPeA9pk",
        "outputId": "5c3a38a1-c097-4696-8bf4-171be77b601b"
      },
      "execution_count": 2,
      "outputs": [
        {
          "output_type": "stream",
          "name": "stdout",
          "text": [
            "#\n",
            "##\n",
            "###\n",
            "####\n",
            "#####\n",
            "######\n",
            "\n",
            "#\n",
            "##\n",
            "###\n"
          ]
        }
      ]
    },
    {
      "cell_type": "code",
      "source": [
        "def greatest_number(a,b,c):\n",
        "   if a > b and a >c:\n",
        "        return a\n",
        "   elif b>c and b >a :\n",
        "        return b\n",
        "   else:\n",
        "        return c\n",
        "print(greatest_number(3, 4, 1)) # 4\n",
        "print(greatest_number(99, -4, 7)) # 99\n",
        "print(greatest_number(0, 0, 0)) # 0"
      ],
      "metadata": {
        "colab": {
          "base_uri": "https://localhost:8080/"
        },
        "id": "y7zGaekEC5dH",
        "outputId": "20db01a9-cc59-43d0-9a7b-6b5eb98cc42e"
      },
      "execution_count": 6,
      "outputs": [
        {
          "output_type": "stream",
          "name": "stdout",
          "text": [
            "4\n",
            "99\n",
            "0\n"
          ]
        }
      ]
    },
    {
      "cell_type": "markdown",
      "source": [
        "Please write a program which asks the user to choose between addition and removal. Depending on the choice, the program adds an item to or removes an item from the end of a list. The item that is added must always be one greater than the last item in the list. The first item to be added must be 1."
      ],
      "metadata": {
        "id": "kVan7EEjI_0L"
      }
    },
    {
      "cell_type": "code",
      "source": [
        "word_list = []\n",
        "\n",
        "while True:\n",
        "  word = input(\"Please type in a word: \")\n",
        "  if word in word_list:\n",
        "     break\n",
        "  word_list.append(word)\n",
        "print(f'You typed in {len(word_list)} different words')\n",
        "print(word_list)"
      ],
      "metadata": {
        "colab": {
          "base_uri": "https://localhost:8080/"
        },
        "id": "eVEo5ymeHRbq",
        "outputId": "2074d08b-491a-4c47-ce21-b08b074fac6d"
      },
      "execution_count": 13,
      "outputs": [
        {
          "output_type": "stream",
          "name": "stdout",
          "text": [
            "Please type in a word: adana\n",
            "Please type in a word: almanya\n",
            "Please type in a word: adana\n",
            "You typed in 2 different words\n",
            "['adana', 'almanya']\n"
          ]
        }
      ]
    }
  ]
}