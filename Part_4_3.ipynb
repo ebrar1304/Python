{
  "nbformat": 4,
  "nbformat_minor": 0,
  "metadata": {
    "colab": {
      "provenance": [],
      "authorship_tag": "ABX9TyN9xMOEaCp+XZgTpbKww8r3",
      "include_colab_link": true
    },
    "kernelspec": {
      "name": "python3",
      "display_name": "Python 3"
    },
    "language_info": {
      "name": "python"
    }
  },
  "cells": [
    {
      "cell_type": "markdown",
      "metadata": {
        "id": "view-in-github",
        "colab_type": "text"
      },
      "source": [
        "<a href=\"https://colab.research.google.com/github/ebrar1304/Python/blob/main/Part_4_3.ipynb\" target=\"_parent\"><img src=\"https://colab.research.google.com/assets/colab-badge.svg\" alt=\"Open In Colab\"/></a>"
      ]
    },
    {
      "cell_type": "markdown",
      "source": [
        "Please write a function named line, which takes two arguments: an integer and a string. The function prints out a line of text, the length of which is specified by the first argument. The character used to draw the line should be the first character in the second argument. If the second argument is an empty string, the line should consist of stars."
      ],
      "metadata": {
        "id": "hn4Ch6D-jQZK"
      }
    },
    {
      "cell_type": "code",
      "source": [
        "def line(length, character):\n",
        "    if character == \"\":\n",
        "        print(\"*\" * length)\n",
        "    else:\n",
        "        print(character[0] * length)\n",
        "\n",
        "line(7,\"%\")\n",
        "line(10,\"LOL\")\n",
        "line(3,\"\")"
      ],
      "metadata": {
        "colab": {
          "base_uri": "https://localhost:8080/"
        },
        "id": "-HeE967klSW-",
        "outputId": "0388ac09-51e0-47f8-fe40-16e8b4374401"
      },
      "execution_count": 7,
      "outputs": [
        {
          "output_type": "stream",
          "name": "stdout",
          "text": [
            "%%%%%%%\n",
            "LLLLLLLLLL\n",
            "***\n"
          ]
        }
      ]
    },
    {
      "cell_type": "markdown",
      "source": [
        "Please write a function named box_of_hashes, which prints out a rectangle of hash characters. The function takes one argument, which specifies the height of the rectangle. The rectangle should be ten characters wide.\n",
        "\n",
        "The function should call the function line from the exercise above for the actual printing out. Copy your solution to that exercise above the code for this exercise. Please don't change anything in your line function."
      ],
      "metadata": {
        "id": "Ibajm9gpnCWp"
      }
    },
    {
      "cell_type": "code",
      "source": [
        "def box_of_hashes(height):\n",
        "    for i in range(height):\n",
        "        print(\"#\" * 10)\n",
        "\n",
        "# Örnekler:\n",
        "box_of_hashes(5)\n",
        "print()\n",
        "box_of_hashes(2)\n",
        "\n"
      ],
      "metadata": {
        "colab": {
          "base_uri": "https://localhost:8080/"
        },
        "id": "RNu5QnWFnB83",
        "outputId": "0e94f361-be91-4963-8878-bc1b47c332b4"
      },
      "execution_count": 11,
      "outputs": [
        {
          "output_type": "stream",
          "name": "stdout",
          "text": [
            "##########\n",
            "##########\n",
            "##########\n",
            "##########\n",
            "##########\n",
            "\n",
            "##########\n",
            "##########\n"
          ]
        }
      ]
    },
    {
      "cell_type": "markdown",
      "source": [
        "Please write a function named square_of_hashes, which draws a square of hash characters. The function takes one argument, which determines the length of the side of the square.\n",
        "\n",
        "The function should call the function line from the exercise above for the actual printing out. Copy your solution to that exercise above the code for this exercise. Please don't change anything in the line function."
      ],
      "metadata": {
        "id": "XZTC5SRqrDPZ"
      }
    },
    {
      "cell_type": "code",
      "source": [
        "def hash_square(length):\n",
        "    for i in range(length):\n",
        "        print(\"#\" * length)\n",
        "\n",
        "hash_square(3)\n",
        "hash_square(5)"
      ],
      "metadata": {
        "colab": {
          "base_uri": "https://localhost:8080/"
        },
        "id": "aCn2z0uXrCzX",
        "outputId": "f40f7e4b-181f-45bd-e72d-5271714a9e67"
      },
      "execution_count": 12,
      "outputs": [
        {
          "output_type": "stream",
          "name": "stdout",
          "text": [
            "###\n",
            "###\n",
            "###\n",
            "#####\n",
            "#####\n",
            "#####\n",
            "#####\n",
            "#####\n"
          ]
        }
      ]
    },
    {
      "cell_type": "markdown",
      "source": [
        "Please write a function named square, which prints out a square of characters, and takes two arguments. The first parameter specifies the length of the side of the square. The second parameter specifies the character used to draw the square.\n",
        "\n",
        "The function should call the function line from the exercise above for the actual printing out. Copy your solution to that exercise above the code for this exercise. Please don't change anything in the line function."
      ],
      "metadata": {
        "id": "hM5MGRKVtDl4"
      }
    },
    {
      "cell_type": "code",
      "source": [
        "def square(size,character):\n",
        "   for i in range(size):\n",
        "        print(character * size)\n",
        "\n",
        "square(5,\"*\")\n",
        "print()\n",
        "square(3,\"o\")"
      ],
      "metadata": {
        "colab": {
          "base_uri": "https://localhost:8080/"
        },
        "id": "RxK3XlUatDE8",
        "outputId": "713909f4-40b3-406d-bd43-5e331f6ef9d8"
      },
      "execution_count": 14,
      "outputs": [
        {
          "output_type": "stream",
          "name": "stdout",
          "text": [
            "*****\n",
            "*****\n",
            "*****\n",
            "*****\n",
            "*****\n",
            "\n",
            "ooo\n",
            "ooo\n",
            "ooo\n"
          ]
        }
      ]
    },
    {
      "cell_type": "markdown",
      "source": [
        "Please write a function named triangle, which draws a triangle of hashes, and takes one argument. The triangle should be as tall and as wide as the value of the argument."
      ],
      "metadata": {
        "id": "tTE9EFHmuHBv"
      }
    },
    {
      "cell_type": "code",
      "source": [
        "def triangle(length):\n",
        "    for i in range(1, length + 1):\n",
        "        print(\"#\" * (i))\n",
        "\n",
        "triangle(6)\n",
        "print()\n",
        "triangle(3)\n"
      ],
      "metadata": {
        "colab": {
          "base_uri": "https://localhost:8080/"
        },
        "id": "k9b4Jcs7uGlx",
        "outputId": "27be27a1-032c-47c6-c2d7-85a003ccb485"
      },
      "execution_count": 27,
      "outputs": [
        {
          "output_type": "stream",
          "name": "stdout",
          "text": [
            "#\n",
            "##\n",
            "###\n",
            "####\n",
            "#####\n",
            "######\n",
            "\n",
            "#\n",
            "##\n",
            "###\n"
          ]
        }
      ]
    },
    {
      "cell_type": "markdown",
      "source": [
        "Please write a function named shape, which takes four arguments. The first two parameters specify a triangle, as above, and the character used to draw it. The first parameter also specifies the width of a rectangle, while the third parameter specifies its height. The fourth parameter specifies the filler character of the rectangle. The function prints first the triangle, and then the rectangle below it."
      ],
      "metadata": {
        "id": "5Zoj065Yw3au"
      }
    },
    {
      "cell_type": "code",
      "source": [
        "def shape(size,character,height,char):\n",
        "   for i in range(1, size + 1):\n",
        "        print(character * i)\n",
        "   for i in range(height):\n",
        "        print(char * size)\n",
        "\n",
        "shape(5,\"X\",3,\"*\")"
      ],
      "metadata": {
        "colab": {
          "base_uri": "https://localhost:8080/"
        },
        "id": "bieCmgmew1ko",
        "outputId": "4366a609-ea36-402d-f65f-b036fa08d53d"
      },
      "execution_count": 31,
      "outputs": [
        {
          "output_type": "stream",
          "name": "stdout",
          "text": [
            "X\n",
            "XX\n",
            "XXX\n",
            "XXXX\n",
            "XXXXX\n",
            "*****\n",
            "*****\n",
            "*****\n"
          ]
        }
      ]
    },
    {
      "cell_type": "markdown",
      "source": [
        "Please write a function named spruce, which takes one argument. The function prints out the text a spruce!, and the a spruce tree, the size of which is specified by the argument.\n",
        "\n"
      ],
      "metadata": {
        "id": "3zeQ50nUyAs1"
      }
    },
    {
      "cell_type": "code",
      "source": [
        "def spruce(size):\n",
        "    print(\"a spruce!\")\n",
        "\n",
        "    for i in range(size):\n",
        "        print(\" \" * (size - i - 1) + \"*\" * (2 * i + 1))\n",
        "    print(\" \" * (size - 1) + \"*\")\n",
        "\n",
        "spruce(3)\n",
        "print()\n",
        "spruce(5)\n"
      ],
      "metadata": {
        "colab": {
          "base_uri": "https://localhost:8080/"
        },
        "id": "Zkru9QoTyxQm",
        "outputId": "be6a1456-c37b-4f0a-dc70-8e1f7637ae6c"
      },
      "execution_count": 37,
      "outputs": [
        {
          "output_type": "stream",
          "name": "stdout",
          "text": [
            "a spruce!\n",
            "  *\n",
            " ***\n",
            "*****\n",
            "  *\n",
            "\n",
            "a spruce!\n",
            "    *\n",
            "   ***\n",
            "  *****\n",
            " *******\n",
            "*********\n",
            "    *\n"
          ]
        }
      ]
    },
    {
      "cell_type": "markdown",
      "source": [
        "Please write a function named greatest_number, which takes three arguments. The function returns the greatest in value of the three."
      ],
      "metadata": {
        "id": "2-NnQp5O015H"
      }
    },
    {
      "cell_type": "code",
      "source": [
        "def greatest_number(a,b,c):\n",
        "   if a > b and a >c:\n",
        "        return a\n",
        "   elif b>c and b >a :\n",
        "        return b\n",
        "   else:\n",
        "        return c\n",
        "print(greatest_number(3, 4, 1)) # 4\n",
        "print(greatest_number(99, -4, 7)) # 99\n",
        "print(greatest_number(0, 0, 0)) # 0"
      ],
      "metadata": {
        "id": "gYXu9vfv0sWQ"
      },
      "execution_count": null,
      "outputs": []
    },
    {
      "cell_type": "markdown",
      "source": [
        "Please write a function named same_chars, which takes one string and two integers as arguments. The integers refer to indexes within the string. The function should return True if the two characters at the indexes specified are the same. Otherwise, and especially if either of the indexes falls outside the scope of the string, the function returns False"
      ],
      "metadata": {
        "id": "jQ72ysTw05Q9"
      }
    },
    {
      "cell_type": "code",
      "source": [
        "def same_chars(word,index1,index2):\n",
        "  if index1 < 0 or index2 < 0 or index1 >= len(word) or index2 >= len(word):\n",
        "    return False\n",
        "  elif word[index1] == word[index2]:\n",
        "    return True\n",
        "  else:\n",
        "    return False\n",
        "\n",
        "print(same_chars(\"programmer\", 6, 7))\n",
        "print(same_chars(\"programmer\", 0, 4))\n",
        "print(same_chars(\"programmer\", 0, 12))"
      ],
      "metadata": {
        "colab": {
          "base_uri": "https://localhost:8080/"
        },
        "id": "Qjy-XKZS04S9",
        "outputId": "b9d5bb4b-7e05-48ef-da9a-abc59b1ebe77"
      },
      "execution_count": 40,
      "outputs": [
        {
          "output_type": "stream",
          "name": "stdout",
          "text": [
            "True\n",
            "False\n",
            "False\n"
          ]
        }
      ]
    },
    {
      "cell_type": "markdown",
      "source": [
        "Please write three functions: first_word, second_word and last_word. Each function takes a string argument.\n",
        "\n",
        "As their names imply, the functions return either the first, the second or the last word in the sentence they receive as their string argument.\n",
        "\n",
        "In each case you may assume the argument string contains at least two separate words, and all words are separated by exactly one space character. There will be no spaces in the beginning or at the end of the argument strings."
      ],
      "metadata": {
        "id": "vFVbWh_j2V2a"
      }
    },
    {
      "cell_type": "code",
      "source": [
        "def first_word(sentence):\n",
        "    words = sentence.split()\n",
        "    return words[0]\n",
        "\n",
        "def second_word(sentence):\n",
        "    words = sentence.split()\n",
        "    return words[1]\n",
        "\n",
        "def last_word(sentence):\n",
        "    words = sentence.split()\n",
        "    return words[-1]\n",
        "\n",
        "sentence = \"it was a dark and stormy python\"\n",
        "print(first_word(sentence))\n",
        "print(second_word(sentence))\n",
        "print(last_word(sentence))\n"
      ],
      "metadata": {
        "colab": {
          "base_uri": "https://localhost:8080/"
        },
        "id": "SnaCNNjE2VqX",
        "outputId": "7206c589-2fe0-45e0-d1e9-f93af720cc3a"
      },
      "execution_count": 44,
      "outputs": [
        {
          "output_type": "stream",
          "name": "stdout",
          "text": [
            "it\n",
            "was\n",
            "python\n"
          ]
        }
      ]
    },
    {
      "cell_type": "markdown",
      "source": [
        "Please write a program which initialises a list with the values [1, 2, 3, 4, 5]. Then the program should ask the user for an index and a new value, replace the value at the given index, and print the list again. This should be looped over until the user gives -1 for the index. You can assume all given index values will fall within your list."
      ],
      "metadata": {
        "id": "d2XN7yug5mNe"
      }
    },
    {
      "cell_type": "code",
      "source": [
        "my_list=[1,2,3,4,5]\n",
        "\n",
        "while True:\n",
        "  index=int(input(\"Index: \"))\n",
        "  if index == -1:\n",
        "    break\n",
        "  new_value=int(input(\"New value: \"))\n",
        "  my_list[index]=new_value\n",
        "  print(my_list)"
      ],
      "metadata": {
        "colab": {
          "base_uri": "https://localhost:8080/"
        },
        "id": "rJtJTbgy5oKz",
        "outputId": "5ac5acb8-f09b-465d-c219-fa5c17d23a83"
      },
      "execution_count": 46,
      "outputs": [
        {
          "name": "stdout",
          "output_type": "stream",
          "text": [
            "Index: 0\n",
            "New value: 10\n",
            "[10, 2, 3, 4, 5]\n",
            "Index: -1\n"
          ]
        }
      ]
    },
    {
      "cell_type": "markdown",
      "source": [
        "Please write a program which first asks the user for the number of items to be added. Then the program should ask for the given number of values, one by one, and add them to a list in the order they were typed in. Finally, the list is printed out"
      ],
      "metadata": {
        "id": "v1zRUAT0646h"
      }
    },
    {
      "cell_type": "code",
      "source": [
        "items=int(input(\"How many items: \"))\n",
        "my_list=[]\n",
        "\n",
        "for i in range(items):\n",
        " item=int(input(f\"Item {i+1}: \"))\n",
        " my_list.append(item)\n",
        "\n",
        "print(my_list)"
      ],
      "metadata": {
        "colab": {
          "base_uri": "https://localhost:8080/"
        },
        "id": "s6Dhsa1V64oA",
        "outputId": "c6614ec7-bc67-4e52-dc0d-5b3af1efe17d"
      },
      "execution_count": 63,
      "outputs": [
        {
          "output_type": "stream",
          "name": "stdout",
          "text": [
            "How many items: 3\n",
            "Item 1: 2\n",
            "Item 2: 5\n",
            "Item 3: 6\n",
            "[2, 5, 6]\n"
          ]
        }
      ]
    },
    {
      "cell_type": "markdown",
      "source": [
        "Please write a program which asks the user to choose between addition and removal. Depending on the choice, the program adds an item to or removes an item from the end of a list. The item that is added must always be one greater than the last item in the list. The first item to be added must be 1."
      ],
      "metadata": {
        "id": "jsXhgn4i-EkG"
      }
    },
    {
      "cell_type": "code",
      "source": [
        "my_list = []\n",
        "\n",
        "while True:\n",
        "    print(f\"The list is now {my_list}\")\n",
        "\n",
        "    choice = input(\"a(d)d, (r)emove or e(x)it:\").lower()\n",
        "\n",
        "    if choice == \"x\":\n",
        "        print(\"Bye!\")\n",
        "        break\n",
        "    elif choice == \"d\":\n",
        "        if len(my_list) == 0:\n",
        "            my_list.append(1)\n",
        "        else:\n",
        "            my_list.append(my_list[-1] + 1)\n",
        "    elif choice == \"r\":\n",
        "        if my_list:\n",
        "            my_list.pop()\n",
        "        else:\n",
        "            print(\"The list is already empty, nothing to remove.\")\n",
        "    else:\n",
        "        print(\"Invalid input. Please choose 'd', 'r', or 'x'.\")\n"
      ],
      "metadata": {
        "colab": {
          "base_uri": "https://localhost:8080/"
        },
        "id": "uP2kcPds-GVS",
        "outputId": "a1919455-dddf-4e0f-8392-6bc594eddaf7"
      },
      "execution_count": 67,
      "outputs": [
        {
          "output_type": "stream",
          "name": "stdout",
          "text": [
            "The list is now []\n",
            "a(d)d, (r)emove or e(x)it:d\n",
            "The list is now [1]\n",
            "a(d)d, (r)emove or e(x)it:d\n",
            "The list is now [1, 2]\n",
            "a(d)d, (r)emove or e(x)it:r\n",
            "The list is now [1]\n",
            "a(d)d, (r)emove or e(x)it:d\n",
            "The list is now [1, 2]\n",
            "a(d)d, (r)emove or e(x)it:d\n",
            "The list is now [1, 2, 3]\n",
            "a(d)d, (r)emove or e(x)it:d\n",
            "The list is now [1, 2, 3, 4]\n",
            "a(d)d, (r)emove or e(x)it:x\n",
            "Bye!\n"
          ]
        }
      ]
    },
    {
      "cell_type": "markdown",
      "source": [
        "Please write a program which asks the user for words. If the user types in a word for the second time, the program should print out the number of different words typed in, and exit."
      ],
      "metadata": {
        "id": "GZpTUaQ-_3jK"
      }
    },
    {
      "cell_type": "code",
      "source": [
        "word_list = []\n",
        "\n",
        "while True:\n",
        "  word = input(\"Please type in a word: \")\n",
        "  if word in word_list:\n",
        "     break\n",
        "  word_list.append(word)\n",
        "print(f'You typed in {len(word_list)} different words')\n",
        "print(word_list)"
      ],
      "metadata": {
        "id": "pBbQQJ_Z_4la"
      },
      "execution_count": null,
      "outputs": []
    },
    {
      "cell_type": "markdown",
      "source": [
        "Please write a program which asks the user to type in values and adds them to a list. After each addition, the list is printed out in two different ways:\n",
        "\n",
        "in the order the items were added\n",
        "ordered from smallest to greatest\n",
        "The program exits when the user types in 0."
      ],
      "metadata": {
        "id": "tMaIlJyl_7dz"
      }
    },
    {
      "cell_type": "code",
      "source": [
        "my_list = []\n",
        "\n",
        "while True:\n",
        "  item=int(input(\"New item: \"))\n",
        "  if item == 0:\n",
        "    print(f\"The list now {my_list}\")\n",
        "    print(\"Bye!\")\n",
        "    break\n",
        "\n",
        "  my_list.append(item)\n",
        "  print(f\"The list in now {my_list}\")\n",
        "  my_list.sort()\n",
        "  print(f\"The list in order {my_list}\")\n"
      ],
      "metadata": {
        "colab": {
          "base_uri": "https://localhost:8080/"
        },
        "id": "zqDhGKX__9be",
        "outputId": "1cab5852-16b8-4a12-f0ea-fb310e0c4813"
      },
      "execution_count": 73,
      "outputs": [
        {
          "output_type": "stream",
          "name": "stdout",
          "text": [
            "New item: 5\n",
            "The list in now [5]\n",
            "The list in order [5]\n",
            "New item: 7\n",
            "The list in now [5, 7]\n",
            "The list in order [5, 7]\n",
            "New item: 1\n",
            "The list in now [5, 7, 1]\n",
            "The list in order [1, 5, 7]\n",
            "New item: 0\n",
            "The list now [1, 5, 7]\n",
            "Bye!\n"
          ]
        }
      ]
    },
    {
      "cell_type": "markdown",
      "source": [
        "Please write a function named length which takes a list as its argument and returns the length of the list."
      ],
      "metadata": {
        "id": "87v938t4CsFB"
      }
    },
    {
      "cell_type": "code",
      "source": [
        "\n",
        "def length(lst):\n",
        "    return len(lst)\n",
        "\n",
        "\n",
        "my_list = [1, 2, 3, 4, 5]\n",
        "result = length(my_list)\n",
        "print(\"The length is\", result)\n",
        "\n",
        "result = length([1, 1, 1, 1])\n",
        "print(\"The length is\", result)\n"
      ],
      "metadata": {
        "colab": {
          "base_uri": "https://localhost:8080/"
        },
        "id": "R7k9EvtBCud2",
        "outputId": "2b45615c-c2f1-49cf-86b1-f4cd5ff76f2d"
      },
      "execution_count": 74,
      "outputs": [
        {
          "output_type": "stream",
          "name": "stdout",
          "text": [
            "The length is 5\n",
            "The length is 4\n"
          ]
        }
      ]
    },
    {
      "cell_type": "markdown",
      "source": [
        "Please write a function named mean, which takes a list of integers as an argument. The function returns the arithmetic mean of the values in the list."
      ],
      "metadata": {
        "id": "xXgZBSc7D1p2"
      }
    },
    {
      "cell_type": "code",
      "source": [
        "\n",
        "def mean(lst):\n",
        "    total = sum(lst)\n",
        "    count = len(lst)\n",
        "    return total / count\n",
        "\n",
        "\n",
        "my_list = [1, 2, 3, 4, 5]\n",
        "result = mean(my_list)\n",
        "print(\"mean value is\", result)\n"
      ],
      "metadata": {
        "colab": {
          "base_uri": "https://localhost:8080/"
        },
        "id": "Q5DjdPGsD8QZ",
        "outputId": "df64c878-0365-463e-931a-2fd40720e592"
      },
      "execution_count": 75,
      "outputs": [
        {
          "output_type": "stream",
          "name": "stdout",
          "text": [
            "mean value is 3.0\n"
          ]
        }
      ]
    },
    {
      "cell_type": "markdown",
      "source": [
        "Please write a function named range_of_list, which takes a list of integers as an argument. The function returns the difference between the smallest and the largest value in the list."
      ],
      "metadata": {
        "id": "y_WATby2EKQ4"
      }
    },
    {
      "cell_type": "code",
      "source": [
        "def range_of_list(lst):\n",
        "    return max(lst) - min(lst)\n",
        "\n",
        "my_list = [1, 2, 3, 4, 5]\n",
        "result = range_of_list(my_list)\n",
        "print(\"The range of the list is\", result)\n"
      ],
      "metadata": {
        "colab": {
          "base_uri": "https://localhost:8080/"
        },
        "id": "Uz99wBGWEMGD",
        "outputId": "4e8408db-80dc-4536-8d5c-e8c197dad70f"
      },
      "execution_count": 76,
      "outputs": [
        {
          "output_type": "stream",
          "name": "stdout",
          "text": [
            "The range of the list is 4\n"
          ]
        }
      ]
    }
  ]
}